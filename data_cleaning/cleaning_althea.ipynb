{
 "cells": [
  {
   "cell_type": "code",
   "execution_count": 7,
   "metadata": {},
   "outputs": [],
   "source": [
    "import numpy as np\n",
    "import pandas as pd\n",
    "import string"
   ]
  },
  {
   "cell_type": "code",
   "execution_count": 2,
   "metadata": {},
   "outputs": [],
   "source": [
    "bipolar = pd.read_csv('../scraping/bipolar.csv')"
   ]
  },
  {
   "cell_type": "code",
   "execution_count": 3,
   "metadata": {},
   "outputs": [],
   "source": [
    "bipolar.drop('Unnamed: 0', axis=1, inplace=True)"
   ]
  },
  {
   "cell_type": "code",
   "execution_count": 4,
   "metadata": {},
   "outputs": [
    {
     "data": {
      "text/html": [
       "<div>\n",
       "<style scoped>\n",
       "    .dataframe tbody tr th:only-of-type {\n",
       "        vertical-align: middle;\n",
       "    }\n",
       "\n",
       "    .dataframe tbody tr th {\n",
       "        vertical-align: top;\n",
       "    }\n",
       "\n",
       "    .dataframe thead th {\n",
       "        text-align: right;\n",
       "    }\n",
       "</style>\n",
       "<table border=\"1\" class=\"dataframe\">\n",
       "  <thead>\n",
       "    <tr style=\"text-align: right;\">\n",
       "      <th></th>\n",
       "      <th>id</th>\n",
       "      <th>title</th>\n",
       "      <th>text</th>\n",
       "      <th>url</th>\n",
       "      <th>date</th>\n",
       "      <th>upvotes</th>\n",
       "      <th>upvote_ratio</th>\n",
       "    </tr>\n",
       "  </thead>\n",
       "  <tbody>\n",
       "    <tr>\n",
       "      <th>0</th>\n",
       "      <td>148wv6s</td>\n",
       "      <td>Reminder: Avoid the dentist’s look of death</td>\n",
       "      <td>So, I brush and use mouthwash once a day. Flos...</td>\n",
       "      <td>https://www.reddit.com/r/bipolar/comments/148w...</td>\n",
       "      <td>1.686712e+09</td>\n",
       "      <td>1</td>\n",
       "      <td>1.0</td>\n",
       "    </tr>\n",
       "    <tr>\n",
       "      <th>1</th>\n",
       "      <td>148wo44</td>\n",
       "      <td>Adhd med experiences</td>\n",
       "      <td>Hey I understand this is a pretty subjective t...</td>\n",
       "      <td>https://www.reddit.com/r/bipolar/comments/148w...</td>\n",
       "      <td>1.686711e+09</td>\n",
       "      <td>1</td>\n",
       "      <td>1.0</td>\n",
       "    </tr>\n",
       "    <tr>\n",
       "      <th>2</th>\n",
       "      <td>148wiky</td>\n",
       "      <td>What might this be?</td>\n",
       "      <td>I am not asking for a diagnosis (I have BP 1),...</td>\n",
       "      <td>https://www.reddit.com/r/bipolar/comments/148w...</td>\n",
       "      <td>1.686711e+09</td>\n",
       "      <td>1</td>\n",
       "      <td>1.0</td>\n",
       "    </tr>\n",
       "    <tr>\n",
       "      <th>3</th>\n",
       "      <td>148vfvl</td>\n",
       "      <td>New Job</td>\n",
       "      <td>i’ve just accepted a new job and im scared im ...</td>\n",
       "      <td>https://www.reddit.com/r/bipolar/comments/148v...</td>\n",
       "      <td>1.686707e+09</td>\n",
       "      <td>2</td>\n",
       "      <td>1.0</td>\n",
       "    </tr>\n",
       "    <tr>\n",
       "      <th>4</th>\n",
       "      <td>148vk9z</td>\n",
       "      <td>Minor (individual) difficulties</td>\n",
       "      <td>Ive had no episodes or major issues stem from ...</td>\n",
       "      <td>https://www.reddit.com/r/bipolar/comments/148v...</td>\n",
       "      <td>1.686708e+09</td>\n",
       "      <td>4</td>\n",
       "      <td>1.0</td>\n",
       "    </tr>\n",
       "  </tbody>\n",
       "</table>\n",
       "</div>"
      ],
      "text/plain": [
       "        id                                        title  \\\n",
       "0  148wv6s  Reminder: Avoid the dentist’s look of death   \n",
       "1  148wo44                         Adhd med experiences   \n",
       "2  148wiky                          What might this be?   \n",
       "3  148vfvl                                      New Job   \n",
       "4  148vk9z              Minor (individual) difficulties   \n",
       "\n",
       "                                                text  \\\n",
       "0  So, I brush and use mouthwash once a day. Flos...   \n",
       "1  Hey I understand this is a pretty subjective t...   \n",
       "2  I am not asking for a diagnosis (I have BP 1),...   \n",
       "3  i’ve just accepted a new job and im scared im ...   \n",
       "4  Ive had no episodes or major issues stem from ...   \n",
       "\n",
       "                                                 url          date  upvotes  \\\n",
       "0  https://www.reddit.com/r/bipolar/comments/148w...  1.686712e+09        1   \n",
       "1  https://www.reddit.com/r/bipolar/comments/148w...  1.686711e+09        1   \n",
       "2  https://www.reddit.com/r/bipolar/comments/148w...  1.686711e+09        1   \n",
       "3  https://www.reddit.com/r/bipolar/comments/148v...  1.686707e+09        2   \n",
       "4  https://www.reddit.com/r/bipolar/comments/148v...  1.686708e+09        4   \n",
       "\n",
       "   upvote_ratio  \n",
       "0           1.0  \n",
       "1           1.0  \n",
       "2           1.0  \n",
       "3           1.0  \n",
       "4           1.0  "
      ]
     },
     "execution_count": 4,
     "metadata": {},
     "output_type": "execute_result"
    }
   ],
   "source": [
    "bipolar.head(5)"
   ]
  },
  {
   "cell_type": "code",
   "execution_count": 30,
   "metadata": {},
   "outputs": [],
   "source": [
    "#filtering out rows with no text\n",
    "bipolar = bipolar.dropna(subset=['text'])"
   ]
  },
  {
   "cell_type": "code",
   "execution_count": 34,
   "metadata": {},
   "outputs": [
    {
     "data": {
      "text/html": [
       "<div>\n",
       "<style scoped>\n",
       "    .dataframe tbody tr th:only-of-type {\n",
       "        vertical-align: middle;\n",
       "    }\n",
       "\n",
       "    .dataframe tbody tr th {\n",
       "        vertical-align: top;\n",
       "    }\n",
       "\n",
       "    .dataframe thead th {\n",
       "        text-align: right;\n",
       "    }\n",
       "</style>\n",
       "<table border=\"1\" class=\"dataframe\">\n",
       "  <thead>\n",
       "    <tr style=\"text-align: right;\">\n",
       "      <th></th>\n",
       "      <th>title</th>\n",
       "      <th>text</th>\n",
       "    </tr>\n",
       "  </thead>\n",
       "  <tbody>\n",
       "    <tr>\n",
       "      <th>997</th>\n",
       "      <td>Reminder Avoid the dentist’s look of death</td>\n",
       "      <td>So, I brush and use mouthwash once a day. Flos...</td>\n",
       "    </tr>\n",
       "    <tr>\n",
       "      <th>998</th>\n",
       "      <td>Adhd med experiences</td>\n",
       "      <td>Hey I understand this is a pretty subjective t...</td>\n",
       "    </tr>\n",
       "    <tr>\n",
       "      <th>999</th>\n",
       "      <td>What might this be</td>\n",
       "      <td>I am not asking for a diagnosis (I have BP 1),...</td>\n",
       "    </tr>\n",
       "    <tr>\n",
       "      <th>1000</th>\n",
       "      <td>New Job</td>\n",
       "      <td>i’ve just accepted a new job and im scared im ...</td>\n",
       "    </tr>\n",
       "    <tr>\n",
       "      <th>1001</th>\n",
       "      <td>Minor individual difficulties</td>\n",
       "      <td>Ive had no episodes or major issues stem from ...</td>\n",
       "    </tr>\n",
       "    <tr>\n",
       "      <th>...</th>\n",
       "      <td>...</td>\n",
       "      <td>...</td>\n",
       "    </tr>\n",
       "    <tr>\n",
       "      <th>9995</th>\n",
       "      <td>question on violent intrusive thoughts</td>\n",
       "      <td>Hey guys, I've recently been diagnosed with bi...</td>\n",
       "    </tr>\n",
       "    <tr>\n",
       "      <th>9996</th>\n",
       "      <td>Feel like body is in fight or flight response 247</td>\n",
       "      <td>Does anybody feel this way? It’s almost like e...</td>\n",
       "    </tr>\n",
       "    <tr>\n",
       "      <th>9997</th>\n",
       "      <td>I made it</td>\n",
       "      <td>Just got the closest to saying goodbye these l...</td>\n",
       "    </tr>\n",
       "    <tr>\n",
       "      <th>9998</th>\n",
       "      <td>Brain Fog Tips</td>\n",
       "      <td>I'm surprised my psychiatrist didn't prescribe...</td>\n",
       "    </tr>\n",
       "    <tr>\n",
       "      <th>9999</th>\n",
       "      <td>Rapid cycling is destroying me</td>\n",
       "      <td>—Talk of self harm and wanting to give up—\\n\\n...</td>\n",
       "    </tr>\n",
       "  </tbody>\n",
       "</table>\n",
       "<p>8670 rows × 2 columns</p>\n",
       "</div>"
      ],
      "text/plain": [
       "                                                  title  \\\n",
       "997          Reminder Avoid the dentist’s look of death   \n",
       "998                                Adhd med experiences   \n",
       "999                                  What might this be   \n",
       "1000                                            New Job   \n",
       "1001                      Minor individual difficulties   \n",
       "...                                                 ...   \n",
       "9995             question on violent intrusive thoughts   \n",
       "9996  Feel like body is in fight or flight response 247   \n",
       "9997                                          I made it   \n",
       "9998                                     Brain Fog Tips   \n",
       "9999                     Rapid cycling is destroying me   \n",
       "\n",
       "                                                   text  \n",
       "997   So, I brush and use mouthwash once a day. Flos...  \n",
       "998   Hey I understand this is a pretty subjective t...  \n",
       "999   I am not asking for a diagnosis (I have BP 1),...  \n",
       "1000  i’ve just accepted a new job and im scared im ...  \n",
       "1001  Ive had no episodes or major issues stem from ...  \n",
       "...                                                 ...  \n",
       "9995  Hey guys, I've recently been diagnosed with bi...  \n",
       "9996  Does anybody feel this way? It’s almost like e...  \n",
       "9997  Just got the closest to saying goodbye these l...  \n",
       "9998  I'm surprised my psychiatrist didn't prescribe...  \n",
       "9999  —Talk of self harm and wanting to give up—\\n\\n...  \n",
       "\n",
       "[8670 rows x 2 columns]"
      ]
     },
     "execution_count": 34,
     "metadata": {},
     "output_type": "execute_result"
    }
   ],
   "source": [
    "bipolar[bipolar.duplicated(subset=['text'])]"
   ]
  },
  {
   "cell_type": "code",
   "execution_count": 32,
   "metadata": {},
   "outputs": [
    {
     "data": {
      "text/plain": [
       "0       So, I brush and use mouthwash once a day. Flos...\n",
       "1       Hey I understand this is a pretty subjective t...\n",
       "2       I am not asking for a diagnosis (I have BP 1),...\n",
       "3       i’ve just accepted a new job and im scared im ...\n",
       "4       Ive had no episodes or major issues stem from ...\n",
       "                              ...                        \n",
       "9995    Hey guys, I've recently been diagnosed with bi...\n",
       "9996    Does anybody feel this way? It’s almost like e...\n",
       "9997    Just got the closest to saying goodbye these l...\n",
       "9998    I'm surprised my psychiatrist didn't prescribe...\n",
       "9999    —Talk of self harm and wanting to give up—\\n\\n...\n",
       "Name: text, Length: 9630, dtype: object"
      ]
     },
     "execution_count": 32,
     "metadata": {},
     "output_type": "execute_result"
    }
   ],
   "source": [
    "bipolar['text']"
   ]
  },
  {
   "attachments": {},
   "cell_type": "markdown",
   "metadata": {},
   "source": [
    "Preprocessing the text"
   ]
  },
  {
   "cell_type": "code",
   "execution_count": 6,
   "metadata": {},
   "outputs": [],
   "source": [
    "bipolar = bipolar[['title', 'text']]"
   ]
  },
  {
   "cell_type": "code",
   "execution_count": 10,
   "metadata": {},
   "outputs": [],
   "source": [
    "def remove_punctuations(text):\n",
    "    no_punc = ''.join([char for char in text if char not in string.punctuation])\n",
    "    return no_punc"
   ]
  },
  {
   "cell_type": "code",
   "execution_count": 11,
   "metadata": {},
   "outputs": [],
   "source": [
    "bipolar['title'] = bipolar['title'].apply(lambda x: remove_punctuations(x))"
   ]
  },
  {
   "cell_type": "code",
   "execution_count": 12,
   "metadata": {},
   "outputs": [
    {
     "ename": "TypeError",
     "evalue": "'float' object is not iterable",
     "output_type": "error",
     "traceback": [
      "\u001b[1;31m---------------------------------------------------------------------------\u001b[0m",
      "\u001b[1;31mTypeError\u001b[0m                                 Traceback (most recent call last)",
      "Cell \u001b[1;32mIn[12], line 1\u001b[0m\n\u001b[1;32m----> 1\u001b[0m bipolar[\u001b[39m'\u001b[39m\u001b[39mtext\u001b[39m\u001b[39m'\u001b[39m] \u001b[39m=\u001b[39m bipolar[\u001b[39m'\u001b[39;49m\u001b[39mtext\u001b[39;49m\u001b[39m'\u001b[39;49m]\u001b[39m.\u001b[39;49mapply(\u001b[39mlambda\u001b[39;49;00m x: remove_punctuations(x))\n",
      "File \u001b[1;32mc:\\Users\\user\\anaconda3\\lib\\site-packages\\pandas\\core\\series.py:4771\u001b[0m, in \u001b[0;36mSeries.apply\u001b[1;34m(self, func, convert_dtype, args, **kwargs)\u001b[0m\n\u001b[0;32m   4661\u001b[0m \u001b[39mdef\u001b[39;00m \u001b[39mapply\u001b[39m(\n\u001b[0;32m   4662\u001b[0m     \u001b[39mself\u001b[39m,\n\u001b[0;32m   4663\u001b[0m     func: AggFuncType,\n\u001b[1;32m   (...)\u001b[0m\n\u001b[0;32m   4666\u001b[0m     \u001b[39m*\u001b[39m\u001b[39m*\u001b[39mkwargs,\n\u001b[0;32m   4667\u001b[0m ) \u001b[39m-\u001b[39m\u001b[39m>\u001b[39m DataFrame \u001b[39m|\u001b[39m Series:\n\u001b[0;32m   4668\u001b[0m \u001b[39m    \u001b[39m\u001b[39m\"\"\"\u001b[39;00m\n\u001b[0;32m   4669\u001b[0m \u001b[39m    Invoke function on values of Series.\u001b[39;00m\n\u001b[0;32m   4670\u001b[0m \n\u001b[1;32m   (...)\u001b[0m\n\u001b[0;32m   4769\u001b[0m \u001b[39m    dtype: float64\u001b[39;00m\n\u001b[0;32m   4770\u001b[0m \u001b[39m    \"\"\"\u001b[39;00m\n\u001b[1;32m-> 4771\u001b[0m     \u001b[39mreturn\u001b[39;00m SeriesApply(\u001b[39mself\u001b[39;49m, func, convert_dtype, args, kwargs)\u001b[39m.\u001b[39;49mapply()\n",
      "File \u001b[1;32mc:\\Users\\user\\anaconda3\\lib\\site-packages\\pandas\\core\\apply.py:1123\u001b[0m, in \u001b[0;36mSeriesApply.apply\u001b[1;34m(self)\u001b[0m\n\u001b[0;32m   1120\u001b[0m     \u001b[39mreturn\u001b[39;00m \u001b[39mself\u001b[39m\u001b[39m.\u001b[39mapply_str()\n\u001b[0;32m   1122\u001b[0m \u001b[39m# self.f is Callable\u001b[39;00m\n\u001b[1;32m-> 1123\u001b[0m \u001b[39mreturn\u001b[39;00m \u001b[39mself\u001b[39;49m\u001b[39m.\u001b[39;49mapply_standard()\n",
      "File \u001b[1;32mc:\\Users\\user\\anaconda3\\lib\\site-packages\\pandas\\core\\apply.py:1174\u001b[0m, in \u001b[0;36mSeriesApply.apply_standard\u001b[1;34m(self)\u001b[0m\n\u001b[0;32m   1172\u001b[0m     \u001b[39melse\u001b[39;00m:\n\u001b[0;32m   1173\u001b[0m         values \u001b[39m=\u001b[39m obj\u001b[39m.\u001b[39mastype(\u001b[39mobject\u001b[39m)\u001b[39m.\u001b[39m_values\n\u001b[1;32m-> 1174\u001b[0m         mapped \u001b[39m=\u001b[39m lib\u001b[39m.\u001b[39;49mmap_infer(\n\u001b[0;32m   1175\u001b[0m             values,\n\u001b[0;32m   1176\u001b[0m             f,\n\u001b[0;32m   1177\u001b[0m             convert\u001b[39m=\u001b[39;49m\u001b[39mself\u001b[39;49m\u001b[39m.\u001b[39;49mconvert_dtype,\n\u001b[0;32m   1178\u001b[0m         )\n\u001b[0;32m   1180\u001b[0m \u001b[39mif\u001b[39;00m \u001b[39mlen\u001b[39m(mapped) \u001b[39mand\u001b[39;00m \u001b[39misinstance\u001b[39m(mapped[\u001b[39m0\u001b[39m], ABCSeries):\n\u001b[0;32m   1181\u001b[0m     \u001b[39m# GH#43986 Need to do list(mapped) in order to get treated as nested\u001b[39;00m\n\u001b[0;32m   1182\u001b[0m     \u001b[39m#  See also GH#25959 regarding EA support\u001b[39;00m\n\u001b[0;32m   1183\u001b[0m     \u001b[39mreturn\u001b[39;00m obj\u001b[39m.\u001b[39m_constructor_expanddim(\u001b[39mlist\u001b[39m(mapped), index\u001b[39m=\u001b[39mobj\u001b[39m.\u001b[39mindex)\n",
      "File \u001b[1;32mc:\\Users\\user\\anaconda3\\lib\\site-packages\\pandas\\_libs\\lib.pyx:2924\u001b[0m, in \u001b[0;36mpandas._libs.lib.map_infer\u001b[1;34m()\u001b[0m\n",
      "Cell \u001b[1;32mIn[12], line 1\u001b[0m, in \u001b[0;36m<lambda>\u001b[1;34m(x)\u001b[0m\n\u001b[1;32m----> 1\u001b[0m bipolar[\u001b[39m'\u001b[39m\u001b[39mtext\u001b[39m\u001b[39m'\u001b[39m] \u001b[39m=\u001b[39m bipolar[\u001b[39m'\u001b[39m\u001b[39mtext\u001b[39m\u001b[39m'\u001b[39m]\u001b[39m.\u001b[39mapply(\u001b[39mlambda\u001b[39;00m x: remove_punctuations(x))\n",
      "Cell \u001b[1;32mIn[10], line 2\u001b[0m, in \u001b[0;36mremove_punctuations\u001b[1;34m(text)\u001b[0m\n\u001b[0;32m      1\u001b[0m \u001b[39mdef\u001b[39;00m \u001b[39mremove_punctuations\u001b[39m(text):\n\u001b[1;32m----> 2\u001b[0m     no_punc \u001b[39m=\u001b[39m \u001b[39m'\u001b[39m\u001b[39m'\u001b[39m\u001b[39m.\u001b[39mjoin([char \u001b[39mfor\u001b[39;00m char \u001b[39min\u001b[39;00m text \u001b[39mif\u001b[39;00m char \u001b[39mnot\u001b[39;00m \u001b[39min\u001b[39;00m string\u001b[39m.\u001b[39mpunctuation])\n\u001b[0;32m      3\u001b[0m     \u001b[39mreturn\u001b[39;00m no_punc\n",
      "\u001b[1;31mTypeError\u001b[0m: 'float' object is not iterable"
     ]
    }
   ],
   "source": [
    "bipolar['text'] = bipolar['text'].apply(lambda x: remove_punctuations(x))"
   ]
  },
  {
   "cell_type": "code",
   "execution_count": null,
   "metadata": {},
   "outputs": [],
   "source": []
  }
 ],
 "metadata": {
  "kernelspec": {
   "display_name": "base",
   "language": "python",
   "name": "python3"
  },
  "language_info": {
   "codemirror_mode": {
    "name": "ipython",
    "version": 3
   },
   "file_extension": ".py",
   "mimetype": "text/x-python",
   "name": "python",
   "nbconvert_exporter": "python",
   "pygments_lexer": "ipython3",
   "version": "3.10.9"
  },
  "orig_nbformat": 4
 },
 "nbformat": 4,
 "nbformat_minor": 2
}
