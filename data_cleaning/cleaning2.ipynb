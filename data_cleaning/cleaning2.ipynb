{
 "cells": [
  {
   "cell_type": "code",
   "execution_count": 31,
   "metadata": {},
   "outputs": [],
   "source": [
    "#Import libraries\n",
    "import pandas as pd\n",
    "import numpy as np\n",
    "import nltk"
   ]
  },
  {
   "cell_type": "code",
   "execution_count": 32,
   "metadata": {},
   "outputs": [],
   "source": [
    "#import combined_cleaned.csv dataset, but drop index\n",
    "df = pd.read_csv('../data/combined_cleaned.csv', index_col=0)\n"
   ]
  },
  {
   "cell_type": "code",
   "execution_count": 33,
   "metadata": {},
   "outputs": [
    {
     "data": {
      "text/plain": [
       "0"
      ]
     },
     "execution_count": 33,
     "metadata": {},
     "output_type": "execute_result"
    }
   ],
   "source": [
    "#Check for nan values in 'text' column\n",
    "df['text'].isna().sum()"
   ]
  },
  {
   "cell_type": "code",
   "execution_count": 42,
   "metadata": {},
   "outputs": [],
   "source": [
    "#Importing other nltk libraries\n",
    "from nltk.tokenize import sent_tokenize, word_tokenize, RegexpTokenizer\n",
    "from nltk.stem import WordNetLemmatizer\n",
    "from nltk.stem.porter import PorterStemmer\n",
    "from nltk.corpus import stopwords\n",
    "from nltk.sentiment.vader import SentimentIntensityAnalyzer\n",
    "import re\n",
    "import string\n",
    "\n",
    "\n",
    "# Instantiate Tokenizer\n",
    "tokenizer = RegexpTokenizer(r'\\w+') \n",
    "\n",
    "\n",
    "\n",
    "lemmatizer = WordNetLemmatizer()"
   ]
  },
  {
   "cell_type": "code",
   "execution_count": 36,
   "metadata": {},
   "outputs": [
    {
     "name": "stdout",
     "output_type": "stream",
     "text": [
      "Index(['id', 'title', 'text', 'score', 'label'], dtype='object')\n"
     ]
    }
   ],
   "source": [
    "#Print columns of df\n",
    "print(df.columns)"
   ]
  },
  {
   "cell_type": "code",
   "execution_count": 37,
   "metadata": {},
   "outputs": [
    {
     "data": {
      "text/plain": [
       "Unnamed: 0\n",
       "0    ['many', 'people', 'experience', 'increased', ...\n",
       "2    ['noticed', 'today', 'kept', 'randomly', 'laug...\n",
       "3    ['manic', 'two', 'week', 'yesterday', 'fell', ...\n",
       "4    ['school', 'teacher', 'love', 'class', 'couple...\n",
       "5    ['anyone', 'feel', 'like', 'lone', 'forever', ...\n",
       "Name: text, dtype: object"
      ]
     },
     "execution_count": 37,
     "metadata": {},
     "output_type": "execute_result"
    }
   ],
   "source": [
    "df['text'].head()"
   ]
  },
  {
   "cell_type": "code",
   "execution_count": 38,
   "metadata": {},
   "outputs": [
    {
     "name": "stdout",
     "output_type": "stream",
     "text": [
      "3514\n"
     ]
    }
   ],
   "source": [
    "#print number of rows df\n",
    "print(len(df))"
   ]
  },
  {
   "attachments": {},
   "cell_type": "markdown",
   "metadata": {},
   "source": [
    "## Vectorizing"
   ]
  },
  {
   "cell_type": "code",
   "execution_count": 43,
   "metadata": {},
   "outputs": [],
   "source": [
    "def preprocess_text(text):\n",
    "    # Check if the input is a string\n",
    "    if isinstance(text, str):\n",
    "        # Convert text to lowercase and remove punctuation\n",
    "        text = \"\".join([word.lower() for word in text if word not in string.punctuation])\n",
    "        # Tokenize text\n",
    "        tokens = re.split('\\W+', text)\n",
    "        # Remove stopwords and lemmatize words\n",
    "        text = [lemmatizer.lemmatize(word) for word in tokens if word not in stopwords.words('english')]\n",
    "\n",
    "    return text"
   ]
  },
  {
   "cell_type": "code",
   "execution_count": 45,
   "metadata": {},
   "outputs": [
    {
     "name": "stdout",
     "output_type": "stream",
     "text": [
      "(3514, 17221)\n",
      "['' 'aa' 'aaam' ... '아래' '이믈을' '퉁퉁해수퍼맨']\n"
     ]
    }
   ],
   "source": [
    "from sklearn.feature_extraction.text import CountVectorizer\n",
    "\n",
    "# Create an instance of CountVectorizer and pass in the clean_text function as the analyzer parameter\n",
    "count_vect = CountVectorizer(analyzer=preprocess_text)\n",
    "\n",
    "# X_counts stores the vectorized version of the data\n",
    "X_counts = count_vect.fit_transform(df['text'])\n",
    "\n",
    "# Returns the number of rows and columns of X_counts i.e. 5567 text messages and 8104 unique words\n",
    "print(X_counts.shape)\n",
    "\n",
    "# Returns the unique words across alll text messages\n",
    "print(count_vect.get_feature_names_out())"
   ]
  },
  {
   "cell_type": "code",
   "execution_count": 47,
   "metadata": {},
   "outputs": [],
   "source": [
    "#export to csv \n",
    "df.to_csv('../data/combined_cleaned_vectorized.csv')"
   ]
  },
  {
   "cell_type": "code",
   "execution_count": 46,
   "metadata": {},
   "outputs": [
    {
     "name": "stdout",
     "output_type": "stream",
     "text": [
      "Top words:\n",
      "im        5217\n",
      "like      3764\n",
      "feel      2417\n",
      "dont      2371\n",
      "know      2018\n",
      "get       1963\n",
      "time      1909\n",
      "ive       1895\n",
      "people    1731\n",
      "thing     1607\n",
      "dtype: int64\n"
     ]
    }
   ],
   "source": [
    "# Convert the matrix to a DataFrame\n",
    "X_counts_df = pd.DataFrame(X_counts.toarray(), columns=count_vect.get_feature_names_out())\n",
    "\n",
    "# Get the most common words\n",
    "top_words = X_counts_df.sum().sort_values(ascending=False).head(10)\n",
    "print('Top words:')\n",
    "print(top_words)\n"
   ]
  }
 ],
 "metadata": {
  "kernelspec": {
   "display_name": "Python 3",
   "language": "python",
   "name": "python3"
  },
  "language_info": {
   "codemirror_mode": {
    "name": "ipython",
    "version": 3
   },
   "file_extension": ".py",
   "mimetype": "text/x-python",
   "name": "python",
   "nbconvert_exporter": "python",
   "pygments_lexer": "ipython3",
   "version": "3.11.3"
  },
  "orig_nbformat": 4
 },
 "nbformat": 4,
 "nbformat_minor": 2
}
