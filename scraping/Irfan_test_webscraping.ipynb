import requests
from bs4 import BeautifulSoup

# URL of the subreddit
url = "https://www.reddit.com/r/bipolar/"

# Send a GET request to the URL
response = requests.get(url)

# Create a BeautifulSoup object to parse the HTML content
soup = BeautifulSoup(response.content, "html.parser")

# Find all post containers
post_containers = soup.find_all("div", class_="_1oQyIsiPHYt6nx7VOmd1sz")

# Iterate over each post container
for container in post_containers:
    # Extract the post title
    post_title = container.find("h3", class_="_eYtD2XCVieq6emjKBH3m").text
    
    # Extract the post content
    post_content = container.find("div", class_="_292iotee39Lmt0MkQZ2hPV").text
    
    # Print the post title and content
    print("Title:", post_title)
    print("Content:", post_content)
    print("-----------")